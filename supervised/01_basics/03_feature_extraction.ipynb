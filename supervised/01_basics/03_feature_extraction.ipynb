{
  "nbformat": 4,
  "nbformat_minor": 0,
  "metadata": {
    "colab": {
      "name": "03_feature_extraction.ipynb",
      "provenance": [],
      "include_colab_link": true
    },
    "kernelspec": {
      "name": "python3",
      "display_name": "Python 3"
    }
  },
  "cells": [
    {
      "cell_type": "markdown",
      "metadata": {
        "id": "view-in-github",
        "colab_type": "text"
      },
      "source": [
        "<a href=\"https://colab.research.google.com/github/alelorys/machineLearningUdemyBootcamp/blob/main/supervised/01_basics/03_feature_extraction.ipynb\" target=\"_parent\"><img src=\"https://colab.research.google.com/assets/colab-badge.svg\" alt=\"Open In Colab\"/></a>"
      ]
    },
    {
      "cell_type": "markdown",
      "metadata": {
        "id": "UbjsT92Xd3z1"
      },
      "source": [
        "### scikit-learn\n",
        "Strona biblioteki: [https://scikit-learn.org](https://scikit-learn.org)  \n",
        "\n",
        "Dokumentacja/User Guide: [https://scikit-learn.org/stable/user_guide.html](https://scikit-learn.org/stable/user_guide.html)\n",
        "\n",
        "Podstawowa biblioteka do uczenia maszynowego w języku Python.\n",
        "\n",
        "Aby zainstalować bibliotekę scikit-learn, użyj polecenia poniżej:\n",
        "```\n",
        "!pip install scikit-learn\n",
        "```\n",
        "Aby zaktualizować do najnowszej wersji bibliotekę scikit-learn, użyj polecenia poniżej:\n",
        "```\n",
        "!pip install --upgrade scikit-learn\n",
        "```\n",
        "Kurs stworzony w oparciu o wersję `0.22.1`\n",
        "\n",
        "### Spis treści:\n",
        "1. [Import bibliotek](#0)\n",
        "2. [Załadowanie danych](#1)\n",
        "3. [Utworzenie kopii danych](#2)\n",
        "4. [Generowanie nowych zmiennych](#3)\n",
        "5. [Dyskretyzacja zmiennej ciągłej](#4)\n",
        "6. [Ekstrakcja cech](#5)\n",
        "\n"
      ]
    },
    {
      "cell_type": "markdown",
      "metadata": {
        "id": "qp-MRJAgeAYE"
      },
      "source": [
        "### <a name='0'></a> Import bibliotek"
      ]
    },
    {
      "cell_type": "code",
      "metadata": {
        "id": "VQ0ieU0UdN5D",
        "colab": {
          "base_uri": "https://localhost:8080/",
          "height": 35
        },
        "outputId": "296f371c-105d-4d9e-92a2-7a8fe6efb70f"
      },
      "source": [
        "import numpy as np\n",
        "import pandas as pd\n",
        "import sklearn\n",
        "\n",
        "sklearn.__version__"
      ],
      "execution_count": 2,
      "outputs": [
        {
          "output_type": "execute_result",
          "data": {
            "application/vnd.google.colaboratory.intrinsic+json": {
              "type": "string"
            },
            "text/plain": [
              "'0.22.2.post1'"
            ]
          },
          "metadata": {},
          "execution_count": 2
        }
      ]
    },
    {
      "cell_type": "markdown",
      "metadata": {
        "id": "iU4NL-GreDAx"
      },
      "source": [
        "### <a name='1'></a> Załadowanie danych"
      ]
    },
    {
      "cell_type": "code",
      "metadata": {
        "id": "UDbWnF8rdceb",
        "colab": {
          "base_uri": "https://localhost:8080/",
          "height": 236
        },
        "outputId": "17e450d6-73ee-4b84-e95a-2d28e5df7c5a"
      },
      "source": [
        "def fetch_financial_data(company='AMZN'):\n",
        "    \"\"\"\n",
        "    This function fetches stock market quotations.\n",
        "    \"\"\"\n",
        "    import pandas_datareader.data as web\n",
        "    return web.DataReader(name=company, data_source='stooq')\n",
        "\n",
        "df_raw = fetch_financial_data()\n",
        "df_raw.head()"
      ],
      "execution_count": 3,
      "outputs": [
        {
          "output_type": "execute_result",
          "data": {
            "text/html": [
              "<div>\n",
              "<style scoped>\n",
              "    .dataframe tbody tr th:only-of-type {\n",
              "        vertical-align: middle;\n",
              "    }\n",
              "\n",
              "    .dataframe tbody tr th {\n",
              "        vertical-align: top;\n",
              "    }\n",
              "\n",
              "    .dataframe thead th {\n",
              "        text-align: right;\n",
              "    }\n",
              "</style>\n",
              "<table border=\"1\" class=\"dataframe\">\n",
              "  <thead>\n",
              "    <tr style=\"text-align: right;\">\n",
              "      <th></th>\n",
              "      <th>Open</th>\n",
              "      <th>High</th>\n",
              "      <th>Low</th>\n",
              "      <th>Close</th>\n",
              "      <th>Volume</th>\n",
              "    </tr>\n",
              "    <tr>\n",
              "      <th>Date</th>\n",
              "      <th></th>\n",
              "      <th></th>\n",
              "      <th></th>\n",
              "      <th></th>\n",
              "      <th></th>\n",
              "    </tr>\n",
              "  </thead>\n",
              "  <tbody>\n",
              "    <tr>\n",
              "      <th>2021-09-03</th>\n",
              "      <td>3452.000</td>\n",
              "      <td>3482.6700</td>\n",
              "      <td>3436.44</td>\n",
              "      <td>3478.05</td>\n",
              "      <td>2578324</td>\n",
              "    </tr>\n",
              "    <tr>\n",
              "      <th>2021-09-02</th>\n",
              "      <td>3494.760</td>\n",
              "      <td>3511.9608</td>\n",
              "      <td>3455.00</td>\n",
              "      <td>3463.12</td>\n",
              "      <td>2925594</td>\n",
              "    </tr>\n",
              "    <tr>\n",
              "      <th>2021-09-01</th>\n",
              "      <td>3496.396</td>\n",
              "      <td>3527.0000</td>\n",
              "      <td>3475.24</td>\n",
              "      <td>3479.00</td>\n",
              "      <td>3629911</td>\n",
              "    </tr>\n",
              "    <tr>\n",
              "      <th>2021-08-31</th>\n",
              "      <td>3424.800</td>\n",
              "      <td>3472.5800</td>\n",
              "      <td>3395.59</td>\n",
              "      <td>3470.79</td>\n",
              "      <td>4356413</td>\n",
              "    </tr>\n",
              "    <tr>\n",
              "      <th>2021-08-30</th>\n",
              "      <td>3357.425</td>\n",
              "      <td>3445.0000</td>\n",
              "      <td>3355.22</td>\n",
              "      <td>3421.57</td>\n",
              "      <td>3192244</td>\n",
              "    </tr>\n",
              "  </tbody>\n",
              "</table>\n",
              "</div>"
            ],
            "text/plain": [
              "                Open       High      Low    Close   Volume\n",
              "Date                                                      \n",
              "2021-09-03  3452.000  3482.6700  3436.44  3478.05  2578324\n",
              "2021-09-02  3494.760  3511.9608  3455.00  3463.12  2925594\n",
              "2021-09-01  3496.396  3527.0000  3475.24  3479.00  3629911\n",
              "2021-08-31  3424.800  3472.5800  3395.59  3470.79  4356413\n",
              "2021-08-30  3357.425  3445.0000  3355.22  3421.57  3192244"
            ]
          },
          "metadata": {},
          "execution_count": 3
        }
      ]
    },
    {
      "cell_type": "markdown",
      "metadata": {
        "id": "tbI9fnPPe2aq"
      },
      "source": [
        "### <a name='2'></a> Utworzenie kopii danych"
      ]
    },
    {
      "cell_type": "code",
      "metadata": {
        "id": "Frz0Qx8cud3P",
        "colab": {
          "base_uri": "https://localhost:8080/"
        },
        "outputId": "a16474c3-9cb4-4d85-f044-8eb84543c8dd"
      },
      "source": [
        "df = df_raw.copy()\n",
        "df = df[:5]\n",
        "df.info()"
      ],
      "execution_count": 4,
      "outputs": [
        {
          "output_type": "stream",
          "name": "stdout",
          "text": [
            "<class 'pandas.core.frame.DataFrame'>\n",
            "DatetimeIndex: 5 entries, 2021-09-03 to 2021-08-30\n",
            "Data columns (total 5 columns):\n",
            " #   Column  Non-Null Count  Dtype  \n",
            "---  ------  --------------  -----  \n",
            " 0   Open    5 non-null      float64\n",
            " 1   High    5 non-null      float64\n",
            " 2   Low     5 non-null      float64\n",
            " 3   Close   5 non-null      float64\n",
            " 4   Volume  5 non-null      int64  \n",
            "dtypes: float64(4), int64(1)\n",
            "memory usage: 240.0 bytes\n"
          ]
        }
      ]
    },
    {
      "cell_type": "markdown",
      "metadata": {
        "id": "vHDG-9pZeutS"
      },
      "source": [
        "### <a name='3'></a> Generowanie nowych zmiennych"
      ]
    },
    {
      "cell_type": "code",
      "metadata": {
        "id": "2GrDEG0k8MiK",
        "colab": {
          "base_uri": "https://localhost:8080/"
        },
        "outputId": "aa1e5f9f-1418-41b6-dc6a-d0a3dd6277a5"
      },
      "source": [
        "df.index.month"
      ],
      "execution_count": 5,
      "outputs": [
        {
          "output_type": "execute_result",
          "data": {
            "text/plain": [
              "Int64Index([9, 9, 9, 8, 8], dtype='int64', name='Date')"
            ]
          },
          "metadata": {},
          "execution_count": 5
        }
      ]
    },
    {
      "cell_type": "code",
      "metadata": {
        "id": "KTlcaFSEuoll",
        "colab": {
          "base_uri": "https://localhost:8080/",
          "height": 236
        },
        "outputId": "05ff89a2-3ec5-4c31-95b9-08dea5683413"
      },
      "source": [
        "df['day'] = df.index.day\n",
        "df['month'] = df.index.month\n",
        "df['year'] = df.index.year\n",
        "df"
      ],
      "execution_count": 6,
      "outputs": [
        {
          "output_type": "execute_result",
          "data": {
            "text/html": [
              "<div>\n",
              "<style scoped>\n",
              "    .dataframe tbody tr th:only-of-type {\n",
              "        vertical-align: middle;\n",
              "    }\n",
              "\n",
              "    .dataframe tbody tr th {\n",
              "        vertical-align: top;\n",
              "    }\n",
              "\n",
              "    .dataframe thead th {\n",
              "        text-align: right;\n",
              "    }\n",
              "</style>\n",
              "<table border=\"1\" class=\"dataframe\">\n",
              "  <thead>\n",
              "    <tr style=\"text-align: right;\">\n",
              "      <th></th>\n",
              "      <th>Open</th>\n",
              "      <th>High</th>\n",
              "      <th>Low</th>\n",
              "      <th>Close</th>\n",
              "      <th>Volume</th>\n",
              "      <th>day</th>\n",
              "      <th>month</th>\n",
              "      <th>year</th>\n",
              "    </tr>\n",
              "    <tr>\n",
              "      <th>Date</th>\n",
              "      <th></th>\n",
              "      <th></th>\n",
              "      <th></th>\n",
              "      <th></th>\n",
              "      <th></th>\n",
              "      <th></th>\n",
              "      <th></th>\n",
              "      <th></th>\n",
              "    </tr>\n",
              "  </thead>\n",
              "  <tbody>\n",
              "    <tr>\n",
              "      <th>2021-09-03</th>\n",
              "      <td>3452.000</td>\n",
              "      <td>3482.6700</td>\n",
              "      <td>3436.44</td>\n",
              "      <td>3478.05</td>\n",
              "      <td>2578324</td>\n",
              "      <td>3</td>\n",
              "      <td>9</td>\n",
              "      <td>2021</td>\n",
              "    </tr>\n",
              "    <tr>\n",
              "      <th>2021-09-02</th>\n",
              "      <td>3494.760</td>\n",
              "      <td>3511.9608</td>\n",
              "      <td>3455.00</td>\n",
              "      <td>3463.12</td>\n",
              "      <td>2925594</td>\n",
              "      <td>2</td>\n",
              "      <td>9</td>\n",
              "      <td>2021</td>\n",
              "    </tr>\n",
              "    <tr>\n",
              "      <th>2021-09-01</th>\n",
              "      <td>3496.396</td>\n",
              "      <td>3527.0000</td>\n",
              "      <td>3475.24</td>\n",
              "      <td>3479.00</td>\n",
              "      <td>3629911</td>\n",
              "      <td>1</td>\n",
              "      <td>9</td>\n",
              "      <td>2021</td>\n",
              "    </tr>\n",
              "    <tr>\n",
              "      <th>2021-08-31</th>\n",
              "      <td>3424.800</td>\n",
              "      <td>3472.5800</td>\n",
              "      <td>3395.59</td>\n",
              "      <td>3470.79</td>\n",
              "      <td>4356413</td>\n",
              "      <td>31</td>\n",
              "      <td>8</td>\n",
              "      <td>2021</td>\n",
              "    </tr>\n",
              "    <tr>\n",
              "      <th>2021-08-30</th>\n",
              "      <td>3357.425</td>\n",
              "      <td>3445.0000</td>\n",
              "      <td>3355.22</td>\n",
              "      <td>3421.57</td>\n",
              "      <td>3192244</td>\n",
              "      <td>30</td>\n",
              "      <td>8</td>\n",
              "      <td>2021</td>\n",
              "    </tr>\n",
              "  </tbody>\n",
              "</table>\n",
              "</div>"
            ],
            "text/plain": [
              "                Open       High      Low    Close   Volume  day  month  year\n",
              "Date                                                                        \n",
              "2021-09-03  3452.000  3482.6700  3436.44  3478.05  2578324    3      9  2021\n",
              "2021-09-02  3494.760  3511.9608  3455.00  3463.12  2925594    2      9  2021\n",
              "2021-09-01  3496.396  3527.0000  3475.24  3479.00  3629911    1      9  2021\n",
              "2021-08-31  3424.800  3472.5800  3395.59  3470.79  4356413   31      8  2021\n",
              "2021-08-30  3357.425  3445.0000  3355.22  3421.57  3192244   30      8  2021"
            ]
          },
          "metadata": {},
          "execution_count": 6
        }
      ]
    },
    {
      "cell_type": "markdown",
      "metadata": {
        "id": "nrcJUIwWe_u2"
      },
      "source": [
        "### <a name='4'></a> Dyskretyzacja zmiennej ciągłej"
      ]
    },
    {
      "cell_type": "code",
      "metadata": {
        "id": "Xd1NYNSzusBo",
        "colab": {
          "base_uri": "https://localhost:8080/",
          "height": 268
        },
        "outputId": "99fbe605-d257-469d-c550-9e86162653a8"
      },
      "source": [
        "df = pd.DataFrame(data={'height': [100., 178.5, 185., 191., 155.5, 183., 168.]})\n",
        "df"
      ],
      "execution_count": 13,
      "outputs": [
        {
          "output_type": "execute_result",
          "data": {
            "text/html": [
              "<div>\n",
              "<style scoped>\n",
              "    .dataframe tbody tr th:only-of-type {\n",
              "        vertical-align: middle;\n",
              "    }\n",
              "\n",
              "    .dataframe tbody tr th {\n",
              "        vertical-align: top;\n",
              "    }\n",
              "\n",
              "    .dataframe thead th {\n",
              "        text-align: right;\n",
              "    }\n",
              "</style>\n",
              "<table border=\"1\" class=\"dataframe\">\n",
              "  <thead>\n",
              "    <tr style=\"text-align: right;\">\n",
              "      <th></th>\n",
              "      <th>height</th>\n",
              "    </tr>\n",
              "  </thead>\n",
              "  <tbody>\n",
              "    <tr>\n",
              "      <th>0</th>\n",
              "      <td>100.0</td>\n",
              "    </tr>\n",
              "    <tr>\n",
              "      <th>1</th>\n",
              "      <td>178.5</td>\n",
              "    </tr>\n",
              "    <tr>\n",
              "      <th>2</th>\n",
              "      <td>185.0</td>\n",
              "    </tr>\n",
              "    <tr>\n",
              "      <th>3</th>\n",
              "      <td>191.0</td>\n",
              "    </tr>\n",
              "    <tr>\n",
              "      <th>4</th>\n",
              "      <td>155.5</td>\n",
              "    </tr>\n",
              "    <tr>\n",
              "      <th>5</th>\n",
              "      <td>183.0</td>\n",
              "    </tr>\n",
              "    <tr>\n",
              "      <th>6</th>\n",
              "      <td>168.0</td>\n",
              "    </tr>\n",
              "  </tbody>\n",
              "</table>\n",
              "</div>"
            ],
            "text/plain": [
              "   height\n",
              "0   100.0\n",
              "1   178.5\n",
              "2   185.0\n",
              "3   191.0\n",
              "4   155.5\n",
              "5   183.0\n",
              "6   168.0"
            ]
          },
          "metadata": {},
          "execution_count": 13
        }
      ]
    },
    {
      "cell_type": "code",
      "metadata": {
        "id": "kkOda5HKwVuS",
        "colab": {
          "base_uri": "https://localhost:8080/",
          "height": 268
        },
        "outputId": "c7c12b5e-b037-4645-f938-4793b1e4c5bd"
      },
      "source": [
        "df['height_cat'] = pd.cut(x=df.height, bins=3)\n",
        "df"
      ],
      "execution_count": 14,
      "outputs": [
        {
          "output_type": "execute_result",
          "data": {
            "text/html": [
              "<div>\n",
              "<style scoped>\n",
              "    .dataframe tbody tr th:only-of-type {\n",
              "        vertical-align: middle;\n",
              "    }\n",
              "\n",
              "    .dataframe tbody tr th {\n",
              "        vertical-align: top;\n",
              "    }\n",
              "\n",
              "    .dataframe thead th {\n",
              "        text-align: right;\n",
              "    }\n",
              "</style>\n",
              "<table border=\"1\" class=\"dataframe\">\n",
              "  <thead>\n",
              "    <tr style=\"text-align: right;\">\n",
              "      <th></th>\n",
              "      <th>height</th>\n",
              "      <th>height_cat</th>\n",
              "    </tr>\n",
              "  </thead>\n",
              "  <tbody>\n",
              "    <tr>\n",
              "      <th>0</th>\n",
              "      <td>100.0</td>\n",
              "      <td>(99.909, 130.333]</td>\n",
              "    </tr>\n",
              "    <tr>\n",
              "      <th>1</th>\n",
              "      <td>178.5</td>\n",
              "      <td>(160.667, 191.0]</td>\n",
              "    </tr>\n",
              "    <tr>\n",
              "      <th>2</th>\n",
              "      <td>185.0</td>\n",
              "      <td>(160.667, 191.0]</td>\n",
              "    </tr>\n",
              "    <tr>\n",
              "      <th>3</th>\n",
              "      <td>191.0</td>\n",
              "      <td>(160.667, 191.0]</td>\n",
              "    </tr>\n",
              "    <tr>\n",
              "      <th>4</th>\n",
              "      <td>155.5</td>\n",
              "      <td>(130.333, 160.667]</td>\n",
              "    </tr>\n",
              "    <tr>\n",
              "      <th>5</th>\n",
              "      <td>183.0</td>\n",
              "      <td>(160.667, 191.0]</td>\n",
              "    </tr>\n",
              "    <tr>\n",
              "      <th>6</th>\n",
              "      <td>168.0</td>\n",
              "      <td>(160.667, 191.0]</td>\n",
              "    </tr>\n",
              "  </tbody>\n",
              "</table>\n",
              "</div>"
            ],
            "text/plain": [
              "   height          height_cat\n",
              "0   100.0   (99.909, 130.333]\n",
              "1   178.5    (160.667, 191.0]\n",
              "2   185.0    (160.667, 191.0]\n",
              "3   191.0    (160.667, 191.0]\n",
              "4   155.5  (130.333, 160.667]\n",
              "5   183.0    (160.667, 191.0]\n",
              "6   168.0    (160.667, 191.0]"
            ]
          },
          "metadata": {},
          "execution_count": 14
        }
      ]
    },
    {
      "cell_type": "code",
      "metadata": {
        "id": "sSinspPjw2oQ",
        "colab": {
          "base_uri": "https://localhost:8080/",
          "height": 268
        },
        "outputId": "a2411878-6493-4b9d-bdec-437f809bfe3b"
      },
      "source": [
        "df['height_cat'] = pd.cut(x=df.height, bins=(90, 149, 165, 195))\n",
        "df"
      ],
      "execution_count": 15,
      "outputs": [
        {
          "output_type": "execute_result",
          "data": {
            "text/html": [
              "<div>\n",
              "<style scoped>\n",
              "    .dataframe tbody tr th:only-of-type {\n",
              "        vertical-align: middle;\n",
              "    }\n",
              "\n",
              "    .dataframe tbody tr th {\n",
              "        vertical-align: top;\n",
              "    }\n",
              "\n",
              "    .dataframe thead th {\n",
              "        text-align: right;\n",
              "    }\n",
              "</style>\n",
              "<table border=\"1\" class=\"dataframe\">\n",
              "  <thead>\n",
              "    <tr style=\"text-align: right;\">\n",
              "      <th></th>\n",
              "      <th>height</th>\n",
              "      <th>height_cat</th>\n",
              "    </tr>\n",
              "  </thead>\n",
              "  <tbody>\n",
              "    <tr>\n",
              "      <th>0</th>\n",
              "      <td>100.0</td>\n",
              "      <td>(90, 149]</td>\n",
              "    </tr>\n",
              "    <tr>\n",
              "      <th>1</th>\n",
              "      <td>178.5</td>\n",
              "      <td>(165, 195]</td>\n",
              "    </tr>\n",
              "    <tr>\n",
              "      <th>2</th>\n",
              "      <td>185.0</td>\n",
              "      <td>(165, 195]</td>\n",
              "    </tr>\n",
              "    <tr>\n",
              "      <th>3</th>\n",
              "      <td>191.0</td>\n",
              "      <td>(165, 195]</td>\n",
              "    </tr>\n",
              "    <tr>\n",
              "      <th>4</th>\n",
              "      <td>155.5</td>\n",
              "      <td>(149, 165]</td>\n",
              "    </tr>\n",
              "    <tr>\n",
              "      <th>5</th>\n",
              "      <td>183.0</td>\n",
              "      <td>(165, 195]</td>\n",
              "    </tr>\n",
              "    <tr>\n",
              "      <th>6</th>\n",
              "      <td>168.0</td>\n",
              "      <td>(165, 195]</td>\n",
              "    </tr>\n",
              "  </tbody>\n",
              "</table>\n",
              "</div>"
            ],
            "text/plain": [
              "   height  height_cat\n",
              "0   100.0   (90, 149]\n",
              "1   178.5  (165, 195]\n",
              "2   185.0  (165, 195]\n",
              "3   191.0  (165, 195]\n",
              "4   155.5  (149, 165]\n",
              "5   183.0  (165, 195]\n",
              "6   168.0  (165, 195]"
            ]
          },
          "metadata": {},
          "execution_count": 15
        }
      ]
    },
    {
      "cell_type": "code",
      "metadata": {
        "id": "ho480eS9xA9K",
        "colab": {
          "base_uri": "https://localhost:8080/",
          "height": 268
        },
        "outputId": "419ad9ab-c506-4de6-93c2-8b7cd07bb3b0"
      },
      "source": [
        "df['height_cat'] = pd.cut(x=df.height, bins=(90, 149, 165, 195), labels=['pony', 'small horse', 'big horse'])\n",
        "df"
      ],
      "execution_count": 16,
      "outputs": [
        {
          "output_type": "execute_result",
          "data": {
            "text/html": [
              "<div>\n",
              "<style scoped>\n",
              "    .dataframe tbody tr th:only-of-type {\n",
              "        vertical-align: middle;\n",
              "    }\n",
              "\n",
              "    .dataframe tbody tr th {\n",
              "        vertical-align: top;\n",
              "    }\n",
              "\n",
              "    .dataframe thead th {\n",
              "        text-align: right;\n",
              "    }\n",
              "</style>\n",
              "<table border=\"1\" class=\"dataframe\">\n",
              "  <thead>\n",
              "    <tr style=\"text-align: right;\">\n",
              "      <th></th>\n",
              "      <th>height</th>\n",
              "      <th>height_cat</th>\n",
              "    </tr>\n",
              "  </thead>\n",
              "  <tbody>\n",
              "    <tr>\n",
              "      <th>0</th>\n",
              "      <td>100.0</td>\n",
              "      <td>pony</td>\n",
              "    </tr>\n",
              "    <tr>\n",
              "      <th>1</th>\n",
              "      <td>178.5</td>\n",
              "      <td>big horse</td>\n",
              "    </tr>\n",
              "    <tr>\n",
              "      <th>2</th>\n",
              "      <td>185.0</td>\n",
              "      <td>big horse</td>\n",
              "    </tr>\n",
              "    <tr>\n",
              "      <th>3</th>\n",
              "      <td>191.0</td>\n",
              "      <td>big horse</td>\n",
              "    </tr>\n",
              "    <tr>\n",
              "      <th>4</th>\n",
              "      <td>155.5</td>\n",
              "      <td>small horse</td>\n",
              "    </tr>\n",
              "    <tr>\n",
              "      <th>5</th>\n",
              "      <td>183.0</td>\n",
              "      <td>big horse</td>\n",
              "    </tr>\n",
              "    <tr>\n",
              "      <th>6</th>\n",
              "      <td>168.0</td>\n",
              "      <td>big horse</td>\n",
              "    </tr>\n",
              "  </tbody>\n",
              "</table>\n",
              "</div>"
            ],
            "text/plain": [
              "   height   height_cat\n",
              "0   100.0         pony\n",
              "1   178.5    big horse\n",
              "2   185.0    big horse\n",
              "3   191.0    big horse\n",
              "4   155.5  small horse\n",
              "5   183.0    big horse\n",
              "6   168.0    big horse"
            ]
          },
          "metadata": {},
          "execution_count": 16
        }
      ]
    },
    {
      "cell_type": "code",
      "metadata": {
        "id": "RvjJX45LyKG8",
        "colab": {
          "base_uri": "https://localhost:8080/",
          "height": 268
        },
        "outputId": "ff55a900-30c0-4d10-cf05-c5ccbe697c90"
      },
      "source": [
        "pd.get_dummies(df, drop_first=True, prefix='height')"
      ],
      "execution_count": 17,
      "outputs": [
        {
          "output_type": "execute_result",
          "data": {
            "text/html": [
              "<div>\n",
              "<style scoped>\n",
              "    .dataframe tbody tr th:only-of-type {\n",
              "        vertical-align: middle;\n",
              "    }\n",
              "\n",
              "    .dataframe tbody tr th {\n",
              "        vertical-align: top;\n",
              "    }\n",
              "\n",
              "    .dataframe thead th {\n",
              "        text-align: right;\n",
              "    }\n",
              "</style>\n",
              "<table border=\"1\" class=\"dataframe\">\n",
              "  <thead>\n",
              "    <tr style=\"text-align: right;\">\n",
              "      <th></th>\n",
              "      <th>height</th>\n",
              "      <th>height_small horse</th>\n",
              "      <th>height_big horse</th>\n",
              "    </tr>\n",
              "  </thead>\n",
              "  <tbody>\n",
              "    <tr>\n",
              "      <th>0</th>\n",
              "      <td>100.0</td>\n",
              "      <td>0</td>\n",
              "      <td>0</td>\n",
              "    </tr>\n",
              "    <tr>\n",
              "      <th>1</th>\n",
              "      <td>178.5</td>\n",
              "      <td>0</td>\n",
              "      <td>1</td>\n",
              "    </tr>\n",
              "    <tr>\n",
              "      <th>2</th>\n",
              "      <td>185.0</td>\n",
              "      <td>0</td>\n",
              "      <td>1</td>\n",
              "    </tr>\n",
              "    <tr>\n",
              "      <th>3</th>\n",
              "      <td>191.0</td>\n",
              "      <td>0</td>\n",
              "      <td>1</td>\n",
              "    </tr>\n",
              "    <tr>\n",
              "      <th>4</th>\n",
              "      <td>155.5</td>\n",
              "      <td>1</td>\n",
              "      <td>0</td>\n",
              "    </tr>\n",
              "    <tr>\n",
              "      <th>5</th>\n",
              "      <td>183.0</td>\n",
              "      <td>0</td>\n",
              "      <td>1</td>\n",
              "    </tr>\n",
              "    <tr>\n",
              "      <th>6</th>\n",
              "      <td>168.0</td>\n",
              "      <td>0</td>\n",
              "      <td>1</td>\n",
              "    </tr>\n",
              "  </tbody>\n",
              "</table>\n",
              "</div>"
            ],
            "text/plain": [
              "   height  height_small horse  height_big horse\n",
              "0   100.0                   0                 0\n",
              "1   178.5                   0                 1\n",
              "2   185.0                   0                 1\n",
              "3   191.0                   0                 1\n",
              "4   155.5                   1                 0\n",
              "5   183.0                   0                 1\n",
              "6   168.0                   0                 1"
            ]
          },
          "metadata": {},
          "execution_count": 17
        }
      ]
    },
    {
      "cell_type": "markdown",
      "metadata": {
        "id": "PbetkgV-fcnZ"
      },
      "source": [
        "### <a name='5'></a> Ekstrakcja cech"
      ]
    },
    {
      "cell_type": "code",
      "metadata": {
        "id": "RvOM8xBLyQcB",
        "colab": {
          "base_uri": "https://localhost:8080/",
          "height": 143
        },
        "outputId": "7d5ddb7b-0d96-43d0-be31-9e609c3c007b"
      },
      "source": [
        "df = pd.DataFrame(data={'lang': [['PL', 'ENG'], ['GER', 'ENG', 'PL', 'FRA'], ['RUS']]})\n",
        "df"
      ],
      "execution_count": 18,
      "outputs": [
        {
          "output_type": "execute_result",
          "data": {
            "text/html": [
              "<div>\n",
              "<style scoped>\n",
              "    .dataframe tbody tr th:only-of-type {\n",
              "        vertical-align: middle;\n",
              "    }\n",
              "\n",
              "    .dataframe tbody tr th {\n",
              "        vertical-align: top;\n",
              "    }\n",
              "\n",
              "    .dataframe thead th {\n",
              "        text-align: right;\n",
              "    }\n",
              "</style>\n",
              "<table border=\"1\" class=\"dataframe\">\n",
              "  <thead>\n",
              "    <tr style=\"text-align: right;\">\n",
              "      <th></th>\n",
              "      <th>lang</th>\n",
              "    </tr>\n",
              "  </thead>\n",
              "  <tbody>\n",
              "    <tr>\n",
              "      <th>0</th>\n",
              "      <td>[PL, ENG]</td>\n",
              "    </tr>\n",
              "    <tr>\n",
              "      <th>1</th>\n",
              "      <td>[GER, ENG, PL, FRA]</td>\n",
              "    </tr>\n",
              "    <tr>\n",
              "      <th>2</th>\n",
              "      <td>[RUS]</td>\n",
              "    </tr>\n",
              "  </tbody>\n",
              "</table>\n",
              "</div>"
            ],
            "text/plain": [
              "                  lang\n",
              "0            [PL, ENG]\n",
              "1  [GER, ENG, PL, FRA]\n",
              "2                [RUS]"
            ]
          },
          "metadata": {},
          "execution_count": 18
        }
      ]
    },
    {
      "cell_type": "code",
      "metadata": {
        "id": "_bU8Ame3z9xS",
        "colab": {
          "base_uri": "https://localhost:8080/",
          "height": 143
        },
        "outputId": "8550e259-274e-482a-b7d9-b751d00a1a65"
      },
      "source": [
        "df['lang_number'] = df['lang'].apply(len)\n",
        "df"
      ],
      "execution_count": 19,
      "outputs": [
        {
          "output_type": "execute_result",
          "data": {
            "text/html": [
              "<div>\n",
              "<style scoped>\n",
              "    .dataframe tbody tr th:only-of-type {\n",
              "        vertical-align: middle;\n",
              "    }\n",
              "\n",
              "    .dataframe tbody tr th {\n",
              "        vertical-align: top;\n",
              "    }\n",
              "\n",
              "    .dataframe thead th {\n",
              "        text-align: right;\n",
              "    }\n",
              "</style>\n",
              "<table border=\"1\" class=\"dataframe\">\n",
              "  <thead>\n",
              "    <tr style=\"text-align: right;\">\n",
              "      <th></th>\n",
              "      <th>lang</th>\n",
              "      <th>lang_number</th>\n",
              "    </tr>\n",
              "  </thead>\n",
              "  <tbody>\n",
              "    <tr>\n",
              "      <th>0</th>\n",
              "      <td>[PL, ENG]</td>\n",
              "      <td>2</td>\n",
              "    </tr>\n",
              "    <tr>\n",
              "      <th>1</th>\n",
              "      <td>[GER, ENG, PL, FRA]</td>\n",
              "      <td>4</td>\n",
              "    </tr>\n",
              "    <tr>\n",
              "      <th>2</th>\n",
              "      <td>[RUS]</td>\n",
              "      <td>1</td>\n",
              "    </tr>\n",
              "  </tbody>\n",
              "</table>\n",
              "</div>"
            ],
            "text/plain": [
              "                  lang  lang_number\n",
              "0            [PL, ENG]            2\n",
              "1  [GER, ENG, PL, FRA]            4\n",
              "2                [RUS]            1"
            ]
          },
          "metadata": {},
          "execution_count": 19
        }
      ]
    },
    {
      "cell_type": "code",
      "metadata": {
        "id": "jy5vdmJxz0-8",
        "colab": {
          "base_uri": "https://localhost:8080/",
          "height": 143
        },
        "outputId": "756bec98-3bc2-402c-c219-d156a58d6082"
      },
      "source": [
        "df['PL_flag'] = df['lang'].apply(lambda x: 1 if 'PL' in x else 0)\n",
        "df"
      ],
      "execution_count": 20,
      "outputs": [
        {
          "output_type": "execute_result",
          "data": {
            "text/html": [
              "<div>\n",
              "<style scoped>\n",
              "    .dataframe tbody tr th:only-of-type {\n",
              "        vertical-align: middle;\n",
              "    }\n",
              "\n",
              "    .dataframe tbody tr th {\n",
              "        vertical-align: top;\n",
              "    }\n",
              "\n",
              "    .dataframe thead th {\n",
              "        text-align: right;\n",
              "    }\n",
              "</style>\n",
              "<table border=\"1\" class=\"dataframe\">\n",
              "  <thead>\n",
              "    <tr style=\"text-align: right;\">\n",
              "      <th></th>\n",
              "      <th>lang</th>\n",
              "      <th>lang_number</th>\n",
              "      <th>PL_flag</th>\n",
              "    </tr>\n",
              "  </thead>\n",
              "  <tbody>\n",
              "    <tr>\n",
              "      <th>0</th>\n",
              "      <td>[PL, ENG]</td>\n",
              "      <td>2</td>\n",
              "      <td>1</td>\n",
              "    </tr>\n",
              "    <tr>\n",
              "      <th>1</th>\n",
              "      <td>[GER, ENG, PL, FRA]</td>\n",
              "      <td>4</td>\n",
              "      <td>1</td>\n",
              "    </tr>\n",
              "    <tr>\n",
              "      <th>2</th>\n",
              "      <td>[RUS]</td>\n",
              "      <td>1</td>\n",
              "      <td>0</td>\n",
              "    </tr>\n",
              "  </tbody>\n",
              "</table>\n",
              "</div>"
            ],
            "text/plain": [
              "                  lang  lang_number  PL_flag\n",
              "0            [PL, ENG]            2        1\n",
              "1  [GER, ENG, PL, FRA]            4        1\n",
              "2                [RUS]            1        0"
            ]
          },
          "metadata": {},
          "execution_count": 20
        }
      ]
    },
    {
      "cell_type": "code",
      "metadata": {
        "id": "U11TWVhl0gOX",
        "colab": {
          "base_uri": "https://localhost:8080/",
          "height": 143
        },
        "outputId": "2306eb1b-9610-4291-d4b6-1120aba7b196"
      },
      "source": [
        "df = pd.DataFrame(data={'website': ['wp.pl', 'onet.pl', 'google.com']})\n",
        "df"
      ],
      "execution_count": 21,
      "outputs": [
        {
          "output_type": "execute_result",
          "data": {
            "text/html": [
              "<div>\n",
              "<style scoped>\n",
              "    .dataframe tbody tr th:only-of-type {\n",
              "        vertical-align: middle;\n",
              "    }\n",
              "\n",
              "    .dataframe tbody tr th {\n",
              "        vertical-align: top;\n",
              "    }\n",
              "\n",
              "    .dataframe thead th {\n",
              "        text-align: right;\n",
              "    }\n",
              "</style>\n",
              "<table border=\"1\" class=\"dataframe\">\n",
              "  <thead>\n",
              "    <tr style=\"text-align: right;\">\n",
              "      <th></th>\n",
              "      <th>website</th>\n",
              "    </tr>\n",
              "  </thead>\n",
              "  <tbody>\n",
              "    <tr>\n",
              "      <th>0</th>\n",
              "      <td>wp.pl</td>\n",
              "    </tr>\n",
              "    <tr>\n",
              "      <th>1</th>\n",
              "      <td>onet.pl</td>\n",
              "    </tr>\n",
              "    <tr>\n",
              "      <th>2</th>\n",
              "      <td>google.com</td>\n",
              "    </tr>\n",
              "  </tbody>\n",
              "</table>\n",
              "</div>"
            ],
            "text/plain": [
              "      website\n",
              "0       wp.pl\n",
              "1     onet.pl\n",
              "2  google.com"
            ]
          },
          "metadata": {},
          "execution_count": 21
        }
      ]
    },
    {
      "cell_type": "code",
      "metadata": {
        "id": "6yR4DjHG653B",
        "colab": {
          "base_uri": "https://localhost:8080/",
          "height": 143
        },
        "outputId": "6be525da-4ad8-4ddc-cf4e-7215a7612144"
      },
      "source": [
        "df.website.str.split('.', expand=True)"
      ],
      "execution_count": 22,
      "outputs": [
        {
          "output_type": "execute_result",
          "data": {
            "text/html": [
              "<div>\n",
              "<style scoped>\n",
              "    .dataframe tbody tr th:only-of-type {\n",
              "        vertical-align: middle;\n",
              "    }\n",
              "\n",
              "    .dataframe tbody tr th {\n",
              "        vertical-align: top;\n",
              "    }\n",
              "\n",
              "    .dataframe thead th {\n",
              "        text-align: right;\n",
              "    }\n",
              "</style>\n",
              "<table border=\"1\" class=\"dataframe\">\n",
              "  <thead>\n",
              "    <tr style=\"text-align: right;\">\n",
              "      <th></th>\n",
              "      <th>0</th>\n",
              "      <th>1</th>\n",
              "    </tr>\n",
              "  </thead>\n",
              "  <tbody>\n",
              "    <tr>\n",
              "      <th>0</th>\n",
              "      <td>wp</td>\n",
              "      <td>pl</td>\n",
              "    </tr>\n",
              "    <tr>\n",
              "      <th>1</th>\n",
              "      <td>onet</td>\n",
              "      <td>pl</td>\n",
              "    </tr>\n",
              "    <tr>\n",
              "      <th>2</th>\n",
              "      <td>google</td>\n",
              "      <td>com</td>\n",
              "    </tr>\n",
              "  </tbody>\n",
              "</table>\n",
              "</div>"
            ],
            "text/plain": [
              "        0    1\n",
              "0      wp   pl\n",
              "1    onet   pl\n",
              "2  google  com"
            ]
          },
          "metadata": {},
          "execution_count": 22
        }
      ]
    },
    {
      "cell_type": "code",
      "metadata": {
        "id": "LF0b3lrz1FgA",
        "colab": {
          "base_uri": "https://localhost:8080/",
          "height": 143
        },
        "outputId": "10157cd3-4595-4121-caf7-a540d7b3ba37"
      },
      "source": [
        "new = df.website.str.split('.', expand=True)\n",
        "df['portal'] = new[0]\n",
        "df['extension'] = new[1]\n",
        "df"
      ],
      "execution_count": 23,
      "outputs": [
        {
          "output_type": "execute_result",
          "data": {
            "text/html": [
              "<div>\n",
              "<style scoped>\n",
              "    .dataframe tbody tr th:only-of-type {\n",
              "        vertical-align: middle;\n",
              "    }\n",
              "\n",
              "    .dataframe tbody tr th {\n",
              "        vertical-align: top;\n",
              "    }\n",
              "\n",
              "    .dataframe thead th {\n",
              "        text-align: right;\n",
              "    }\n",
              "</style>\n",
              "<table border=\"1\" class=\"dataframe\">\n",
              "  <thead>\n",
              "    <tr style=\"text-align: right;\">\n",
              "      <th></th>\n",
              "      <th>website</th>\n",
              "      <th>portal</th>\n",
              "      <th>extension</th>\n",
              "    </tr>\n",
              "  </thead>\n",
              "  <tbody>\n",
              "    <tr>\n",
              "      <th>0</th>\n",
              "      <td>wp.pl</td>\n",
              "      <td>wp</td>\n",
              "      <td>pl</td>\n",
              "    </tr>\n",
              "    <tr>\n",
              "      <th>1</th>\n",
              "      <td>onet.pl</td>\n",
              "      <td>onet</td>\n",
              "      <td>pl</td>\n",
              "    </tr>\n",
              "    <tr>\n",
              "      <th>2</th>\n",
              "      <td>google.com</td>\n",
              "      <td>google</td>\n",
              "      <td>com</td>\n",
              "    </tr>\n",
              "  </tbody>\n",
              "</table>\n",
              "</div>"
            ],
            "text/plain": [
              "      website  portal extension\n",
              "0       wp.pl      wp        pl\n",
              "1     onet.pl    onet        pl\n",
              "2  google.com  google       com"
            ]
          },
          "metadata": {},
          "execution_count": 23
        }
      ]
    },
    {
      "cell_type": "code",
      "metadata": {
        "id": "j--lCGDG1L2j"
      },
      "source": [
        ""
      ],
      "execution_count": null,
      "outputs": []
    }
  ]
}